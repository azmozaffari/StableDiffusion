{
 "cells": [
  {
   "cell_type": "code",
   "execution_count": 1,
   "metadata": {
    "vscode": {
     "languageId": "shellscript"
    }
   },
   "outputs": [
    {
     "name": "stdout",
     "output_type": "stream",
     "text": [
      "Requirement already satisfied: accelerate>=0.16.0 in /home/azadeh/.local/lib/python3.8/site-packages (from -r requirements.txt (line 1)) (0.22.0)\n",
      "Requirement already satisfied: torchvision in /home/azadeh/.local/lib/python3.8/site-packages (from -r requirements.txt (line 2)) (0.14.1+cu117)\n",
      "Requirement already satisfied: transformers>=4.25.1 in /home/azadeh/.local/lib/python3.8/site-packages (from -r requirements.txt (line 3)) (4.27.2)\n",
      "Requirement already satisfied: ftfy in /home/azadeh/.local/lib/python3.8/site-packages (from -r requirements.txt (line 4)) (6.1.3)\n",
      "Requirement already satisfied: tensorboard in /home/azadeh/.local/lib/python3.8/site-packages (from -r requirements.txt (line 5)) (2.9.0)\n",
      "Requirement already satisfied: Jinja2 in /home/azadeh/.local/lib/python3.8/site-packages (from -r requirements.txt (line 6)) (3.1.2)\n",
      "Requirement already satisfied: peft==0.7.0 in /home/azadeh/.local/lib/python3.8/site-packages (from -r requirements.txt (line 7)) (0.7.0)\n",
      "Requirement already satisfied: torch>=1.10.0 in /home/azadeh/.local/lib/python3.8/site-packages (from accelerate>=0.16.0->-r requirements.txt (line 1)) (1.13.1)\n",
      "Requirement already satisfied: packaging>=20.0 in /home/azadeh/.local/lib/python3.8/site-packages (from accelerate>=0.16.0->-r requirements.txt (line 1)) (23.1)\n",
      "Requirement already satisfied: psutil in /home/azadeh/.local/lib/python3.8/site-packages (from accelerate>=0.16.0->-r requirements.txt (line 1)) (5.9.1)\n",
      "Requirement already satisfied: numpy>=1.17 in /home/azadeh/.local/lib/python3.8/site-packages (from accelerate>=0.16.0->-r requirements.txt (line 1)) (1.20.3)\n",
      "Requirement already satisfied: pyyaml in /usr/lib/python3/dist-packages (from accelerate>=0.16.0->-r requirements.txt (line 1)) (5.3.1)\n",
      "Requirement already satisfied: typing-extensions in /home/azadeh/.local/lib/python3.8/site-packages (from torchvision->-r requirements.txt (line 2)) (4.2.0)\n",
      "Requirement already satisfied: requests in /home/azadeh/.local/lib/python3.8/site-packages (from torchvision->-r requirements.txt (line 2)) (2.31.0)\n",
      "Requirement already satisfied: pillow!=8.3.*,>=5.3.0 in /home/azadeh/.local/lib/python3.8/site-packages (from torchvision->-r requirements.txt (line 2)) (8.2.0)\n",
      "Requirement already satisfied: regex!=2019.12.17 in /home/azadeh/.local/lib/python3.8/site-packages (from transformers>=4.25.1->-r requirements.txt (line 3)) (2022.4.24)\n",
      "Requirement already satisfied: filelock in /home/azadeh/.local/lib/python3.8/site-packages (from transformers>=4.25.1->-r requirements.txt (line 3)) (3.12.0)\n",
      "Requirement already satisfied: tokenizers!=0.11.3,<0.14,>=0.11.1 in /home/azadeh/.local/lib/python3.8/site-packages (from transformers>=4.25.1->-r requirements.txt (line 3)) (0.13.3)\n",
      "Requirement already satisfied: huggingface-hub<1.0,>=0.11.0 in /home/azadeh/.local/lib/python3.8/site-packages (from transformers>=4.25.1->-r requirements.txt (line 3)) (0.19.4)\n",
      "Requirement already satisfied: tqdm>=4.27 in /home/azadeh/.local/lib/python3.8/site-packages (from transformers>=4.25.1->-r requirements.txt (line 3)) (4.64.0)\n",
      "Requirement already satisfied: wcwidth<0.3.0,>=0.2.12 in /home/azadeh/.local/lib/python3.8/site-packages (from ftfy->-r requirements.txt (line 4)) (0.2.12)\n",
      "Requirement already satisfied: google-auth-oauthlib<0.5,>=0.4.1 in /home/azadeh/.local/lib/python3.8/site-packages (from tensorboard->-r requirements.txt (line 5)) (0.4.6)\n",
      "Requirement already satisfied: absl-py>=0.4 in /home/azadeh/.local/lib/python3.8/site-packages (from tensorboard->-r requirements.txt (line 5)) (1.0.0)\n",
      "Requirement already satisfied: markdown>=2.6.8 in /home/azadeh/.local/lib/python3.8/site-packages (from tensorboard->-r requirements.txt (line 5)) (3.3.7)\n",
      "Requirement already satisfied: wheel>=0.26 in /usr/lib/python3/dist-packages (from tensorboard->-r requirements.txt (line 5)) (0.34.2)\n",
      "Requirement already satisfied: grpcio>=1.24.3 in /home/azadeh/.local/lib/python3.8/site-packages (from tensorboard->-r requirements.txt (line 5)) (1.56.2)\n",
      "Requirement already satisfied: google-auth<3,>=1.6.3 in /home/azadeh/.local/lib/python3.8/site-packages (from tensorboard->-r requirements.txt (line 5)) (2.22.0)\n",
      "Requirement already satisfied: setuptools>=41.0.0 in /usr/lib/python3/dist-packages (from tensorboard->-r requirements.txt (line 5)) (45.2.0)\n",
      "Requirement already satisfied: tensorboard-plugin-wit>=1.6.0 in /home/azadeh/.local/lib/python3.8/site-packages (from tensorboard->-r requirements.txt (line 5)) (1.8.1)\n",
      "Requirement already satisfied: werkzeug>=1.0.1 in /home/azadeh/.local/lib/python3.8/site-packages (from tensorboard->-r requirements.txt (line 5)) (2.1.2)\n",
      "Requirement already satisfied: protobuf>=3.9.2 in /home/azadeh/.local/lib/python3.8/site-packages (from tensorboard->-r requirements.txt (line 5)) (3.20.3)\n",
      "Requirement already satisfied: tensorboard-data-server<0.7.0,>=0.6.0 in /home/azadeh/.local/lib/python3.8/site-packages (from tensorboard->-r requirements.txt (line 5)) (0.6.1)\n",
      "Requirement already satisfied: MarkupSafe>=2.0 in /home/azadeh/.local/lib/python3.8/site-packages (from Jinja2->-r requirements.txt (line 6)) (2.1.1)\n",
      "Requirement already satisfied: safetensors in /home/azadeh/.local/lib/python3.8/site-packages (from peft==0.7.0->-r requirements.txt (line 7)) (0.3.3)\n",
      "Requirement already satisfied: nvidia-cuda-nvrtc-cu11==11.7.99; platform_system == \"Linux\" in /usr/local/lib/python3.8/dist-packages (from torch>=1.10.0->accelerate>=0.16.0->-r requirements.txt (line 1)) (11.7.99)\n",
      "Requirement already satisfied: nvidia-cudnn-cu11==8.5.0.96; platform_system == \"Linux\" in /usr/local/lib/python3.8/dist-packages (from torch>=1.10.0->accelerate>=0.16.0->-r requirements.txt (line 1)) (8.5.0.96)\n",
      "Requirement already satisfied: nvidia-cublas-cu11==11.10.3.66; platform_system == \"Linux\" in /usr/local/lib/python3.8/dist-packages (from torch>=1.10.0->accelerate>=0.16.0->-r requirements.txt (line 1)) (11.10.3.66)\n",
      "Requirement already satisfied: nvidia-cuda-runtime-cu11==11.7.99; platform_system == \"Linux\" in /usr/local/lib/python3.8/dist-packages (from torch>=1.10.0->accelerate>=0.16.0->-r requirements.txt (line 1)) (11.7.99)\n",
      "Requirement already satisfied: urllib3<3,>=1.21.1 in /home/azadeh/.local/lib/python3.8/site-packages (from requests->torchvision->-r requirements.txt (line 2)) (1.26.14)\n",
      "Requirement already satisfied: idna<4,>=2.5 in /usr/lib/python3/dist-packages (from requests->torchvision->-r requirements.txt (line 2)) (2.8)\n",
      "Requirement already satisfied: certifi>=2017.4.17 in /usr/lib/python3/dist-packages (from requests->torchvision->-r requirements.txt (line 2)) (2019.11.28)\n",
      "Requirement already satisfied: charset-normalizer<4,>=2 in /home/azadeh/.local/lib/python3.8/site-packages (from requests->torchvision->-r requirements.txt (line 2)) (3.2.0)\n",
      "Requirement already satisfied: fsspec>=2023.5.0 in /home/azadeh/.local/lib/python3.8/site-packages (from huggingface-hub<1.0,>=0.11.0->transformers>=4.25.1->-r requirements.txt (line 3)) (2023.6.0)\n",
      "Requirement already satisfied: requests-oauthlib>=0.7.0 in /home/azadeh/.local/lib/python3.8/site-packages (from google-auth-oauthlib<0.5,>=0.4.1->tensorboard->-r requirements.txt (line 5)) (1.3.1)\n",
      "Requirement already satisfied: six in /usr/lib/python3/dist-packages (from absl-py>=0.4->tensorboard->-r requirements.txt (line 5)) (1.14.0)\n",
      "Requirement already satisfied: importlib-metadata>=4.4; python_version < \"3.10\" in /home/azadeh/.local/lib/python3.8/site-packages (from markdown>=2.6.8->tensorboard->-r requirements.txt (line 5)) (4.11.3)\n",
      "Requirement already satisfied: pyasn1-modules>=0.2.1 in /home/azadeh/.local/lib/python3.8/site-packages (from google-auth<3,>=1.6.3->tensorboard->-r requirements.txt (line 5)) (0.2.8)\n",
      "Requirement already satisfied: rsa<5,>=3.1.4 in /home/azadeh/.local/lib/python3.8/site-packages (from google-auth<3,>=1.6.3->tensorboard->-r requirements.txt (line 5)) (4.8)\n",
      "Requirement already satisfied: cachetools<6.0,>=2.0.0 in /home/azadeh/.local/lib/python3.8/site-packages (from google-auth<3,>=1.6.3->tensorboard->-r requirements.txt (line 5)) (5.3.0)\n",
      "Requirement already satisfied: oauthlib>=3.0.0 in /usr/lib/python3/dist-packages (from requests-oauthlib>=0.7.0->google-auth-oauthlib<0.5,>=0.4.1->tensorboard->-r requirements.txt (line 5)) (3.1.0)\n",
      "Requirement already satisfied: zipp>=0.5 in /home/azadeh/.local/lib/python3.8/site-packages (from importlib-metadata>=4.4; python_version < \"3.10\"->markdown>=2.6.8->tensorboard->-r requirements.txt (line 5)) (3.8.0)\n",
      "Requirement already satisfied: pyasn1<0.5.0,>=0.4.6 in /home/azadeh/.local/lib/python3.8/site-packages (from pyasn1-modules>=0.2.1->google-auth<3,>=1.6.3->tensorboard->-r requirements.txt (line 5)) (0.4.8)\n"
     ]
    }
   ],
   "source": [
    "!pip install -r requirements.txt\n",
    "# pip install accelerate\n"
   ]
  },
  {
   "cell_type": "code",
   "execution_count": 2,
   "metadata": {},
   "outputs": [
    {
     "name": "stdout",
     "output_type": "stream",
     "text": [
      "Requirement already satisfied: accelerate in /home/azadeh/.local/lib/python3.8/site-packages (0.22.0)\n",
      "Requirement already satisfied: pyyaml in /usr/lib/python3/dist-packages (from accelerate) (5.3.1)\n",
      "Requirement already satisfied: torch>=1.10.0 in /home/azadeh/.local/lib/python3.8/site-packages (from accelerate) (1.13.1)\n",
      "Requirement already satisfied: packaging>=20.0 in /home/azadeh/.local/lib/python3.8/site-packages (from accelerate) (23.1)\n",
      "Requirement already satisfied: psutil in /home/azadeh/.local/lib/python3.8/site-packages (from accelerate) (5.9.1)\n",
      "Requirement already satisfied: numpy>=1.17 in /home/azadeh/.local/lib/python3.8/site-packages (from accelerate) (1.20.3)\n",
      "Requirement already satisfied: nvidia-cudnn-cu11==8.5.0.96; platform_system == \"Linux\" in /usr/local/lib/python3.8/dist-packages (from torch>=1.10.0->accelerate) (8.5.0.96)\n",
      "Requirement already satisfied: typing-extensions in /home/azadeh/.local/lib/python3.8/site-packages (from torch>=1.10.0->accelerate) (4.2.0)\n",
      "Requirement already satisfied: nvidia-cuda-nvrtc-cu11==11.7.99; platform_system == \"Linux\" in /usr/local/lib/python3.8/dist-packages (from torch>=1.10.0->accelerate) (11.7.99)\n",
      "Requirement already satisfied: nvidia-cublas-cu11==11.10.3.66; platform_system == \"Linux\" in /usr/local/lib/python3.8/dist-packages (from torch>=1.10.0->accelerate) (11.10.3.66)\n",
      "Requirement already satisfied: nvidia-cuda-runtime-cu11==11.7.99; platform_system == \"Linux\" in /usr/local/lib/python3.8/dist-packages (from torch>=1.10.0->accelerate) (11.7.99)\n",
      "Requirement already satisfied: wheel in /usr/lib/python3/dist-packages (from nvidia-cublas-cu11==11.10.3.66; platform_system == \"Linux\"->torch>=1.10.0->accelerate) (0.34.2)\n",
      "Requirement already satisfied: setuptools in /usr/lib/python3/dist-packages (from nvidia-cublas-cu11==11.10.3.66; platform_system == \"Linux\"->torch>=1.10.0->accelerate) (45.2.0)\n"
     ]
    }
   ],
   "source": [
    "!pip install accelerate\n",
    "# accelerate config"
   ]
  },
  {
   "cell_type": "code",
   "execution_count": 8,
   "metadata": {},
   "outputs": [
    {
     "name": "stdout",
     "output_type": "stream",
     "text": [
      "Configuration already exists at /home/azadeh/.cache/huggingface/accelerate/default_config.yaml, will not override. Run `accelerate config` manually or pass a different `save_location`.\n"
     ]
    }
   ],
   "source": [
    "!accelerate config default"
   ]
  },
  {
   "cell_type": "code",
   "execution_count": 8,
   "metadata": {},
   "outputs": [
    {
     "name": "stdout",
     "output_type": "stream",
     "text": [
      "01/06/2024 23:53:52 - INFO - __main__ - Distributed environment: NO\n",
      "Num processes: 1\n",
      "Process index: 0\n",
      "Local process index: 0\n",
      "Device: cuda\n",
      "\n",
      "Mixed precision type: fp16\n",
      "\n",
      "******************* ../models\n",
      "You are using a model of type clip_text_model to instantiate a model of type . This is not supported for all configurations of models and can yield errors.\n",
      "{'dynamic_thresholding_ratio', 'sample_max_value', 'prediction_type', 'variance_type', 'thresholding', 'clip_sample_range', 'timestep_spacing'} was not found in config. Values will be initialized to default values.\n",
      "{'norm_num_groups', 'force_upcast'} was not found in config. Values will be initialized to default values.\n",
      "{'time_embedding_act_fn', 'cross_attention_norm', 'resnet_skip_time_act', 'class_embeddings_concat', 'num_class_embeds', 'time_embedding_dim', 'projection_class_embeddings_input_dim', 'addition_embed_type_num_heads', 'addition_time_embed_dim', 'resnet_out_scale_factor', 'mid_block_type', 'encoder_hid_dim', 'encoder_hid_dim_type', 'addition_embed_type', 'transformer_layers_per_block', 'num_attention_heads', 'reverse_transformer_layers_per_block', 'use_linear_projection', 'class_embed_type', 'resnet_time_scale_shift', 'conv_out_kernel', 'dropout', 'mid_block_only_cross_attention', 'dual_cross_attention', 'upcast_attention', 'time_cond_proj_dim', 'attention_type', 'time_embedding_type', 'conv_in_kernel', 'only_cross_attention', 'timestep_post_act'} was not found in config. Values will be initialized to default values.\n",
      "01/06/2024 23:53:55 - INFO - __main__ - ***** Running training *****\n",
      "01/06/2024 23:53:55 - INFO - __main__ -   Num examples = 200\n",
      "01/06/2024 23:53:55 - INFO - __main__ -   Num batches each epoch = 200\n",
      "01/06/2024 23:53:55 - INFO - __main__ -   Num Epochs = 4\n",
      "01/06/2024 23:53:55 - INFO - __main__ -   Instantaneous batch size per device = 1\n",
      "01/06/2024 23:53:55 - INFO - __main__ -   Total train batch size (w. parallel, distributed & accumulation) = 1\n",
      "01/06/2024 23:53:55 - INFO - __main__ -   Gradient Accumulation steps = 1\n",
      "01/06/2024 23:53:55 - INFO - __main__ -   Total optimization steps = 800\n",
      "Steps:  62%|████████▊     | 500/800 [05:03<03:00,  1.66it/s, loss=0.28, lr=5e-6]01/06/2024 23:58:58 - INFO - accelerate.accelerator - Saving current state to ../models/checkpoint-500\n",
      "Configuration saved in ../models/checkpoint-500/unet/config.json\n",
      "Model weights saved in ../models/checkpoint-500/unet/diffusion_pytorch_model.safetensors\n",
      "01/06/2024 23:59:36 - INFO - accelerate.checkpointing - Optimizer state saved in ../models/checkpoint-500/optimizer.bin\n",
      "01/06/2024 23:59:36 - INFO - accelerate.checkpointing - Scheduler state saved in ../models/checkpoint-500/scheduler.bin\n",
      "01/06/2024 23:59:36 - INFO - accelerate.checkpointing - Gradient scaler state saved in ../models/checkpoint-500/scaler.pt\n",
      "01/06/2024 23:59:36 - INFO - accelerate.checkpointing - Random states saved in ../models/checkpoint-500/random_states_0.pkl\n",
      "01/06/2024 23:59:36 - INFO - __main__ - Saved state to ../models/checkpoint-500\n",
      "Steps: 100%|████████████| 800/800 [08:27<00:00,  1.78it/s, loss=0.0186, lr=5e-6]{'image_encoder', 'requires_safety_checker'} was not found in config. Values will be initialized to default values.\n",
      "\n",
      "Loading pipeline components...:   0%|                     | 0/7 [00:00<?, ?it/s]\u001b[A`text_config_dict` is provided which will be used to initialize `CLIPTextConfig`. The value `text_config[\"id2label\"]` will be overriden.\n",
      "Loaded safety_checker as StableDiffusionSafetyChecker from `safety_checker` subfolder of CompVis/stable-diffusion-v1-4.\n",
      "\n",
      "Loading pipeline components...:  14%|█▊           | 1/7 [00:00<00:02,  2.85it/s]\u001b[ALoaded tokenizer as CLIPTokenizer from `tokenizer` subfolder of CompVis/stable-diffusion-v1-4.\n",
      "{'prediction_type', 'timestep_spacing'} was not found in config. Values will be initialized to default values.\n",
      "Loaded scheduler as PNDMScheduler from `scheduler` subfolder of CompVis/stable-diffusion-v1-4.\n",
      "Loaded feature_extractor as CLIPImageProcessor from `feature_extractor` subfolder of CompVis/stable-diffusion-v1-4.\n",
      "{'norm_num_groups', 'force_upcast'} was not found in config. Values will be initialized to default values.\n",
      "Loaded vae as AutoencoderKL from `vae` subfolder of CompVis/stable-diffusion-v1-4.\n",
      "\n",
      "Loading pipeline components...: 100%|█████████████| 7/7 [00:00<00:00, 15.52it/s]\u001b[A\n",
      "{'prediction_type', 'timestep_spacing'} was not found in config. Values will be initialized to default values.\n",
      "Configuration saved in ../models/vae/config.json\n",
      "Model weights saved in ../models/vae/diffusion_pytorch_model.safetensors\n",
      "Configuration saved in ../models/unet/config.json\n",
      "Model weights saved in ../models/unet/diffusion_pytorch_model.safetensors\n",
      "Configuration saved in ../models/scheduler/scheduler_config.json\n",
      "Configuration saved in ../models/model_index.json\n",
      "Steps: 100%|████████████| 800/800 [08:35<00:00,  1.55it/s, loss=0.0186, lr=5e-6]\n"
     ]
    }
   ],
   "source": [
    "import os \n",
    "os.environ[\"MODEL_NAME\"] = \"CompVis/stable-diffusion-v1-4\" \n",
    "os.environ[\"INSTANCE_DIR\"]=\"apple_watch\"\n",
    "os.environ[\"CLASS_DIR\"]=\"example_laptop\"\n",
    "os.environ[\"OUTPUT_DIR\"]=\"../models\"\n",
    "\n",
    "\n",
    "!accelerate launch --mixed_precision=\"fp16\" train_dreambooth.py \\\n",
    "  --pretrained_model_name_or_path=$MODEL_NAME \\\n",
    "  --instance_data_dir=$INSTANCE_DIR \\\n",
    "  --class_data_dir=$CLASS_DIR \\\n",
    "  --output_dir=$OUTPUT_DIR \\\n",
    "  --with_prior_preservation --prior_loss_weight=0.5 \\\n",
    "  --instance_prompt=\"a photo of an [V] watch\" \\\n",
    "  --class_prompt=\"a photo of a watch\" \\\n",
    "  --resolution=512 \\\n",
    "  --train_batch_size=1 \\\n",
    "  --sample_batch_size=1 \\\n",
    "  --gradient_accumulation_steps=1 --gradient_checkpointing   \\\n",
    "  --learning_rate=5e-6 \\\n",
    "  --lr_scheduler=\"constant\" \\\n",
    "  --lr_warmup_steps=0 \\\n",
    "  --num_class_images=200 \\\n",
    "  --max_train_steps=800 \\\n",
    "  --push_to_hub"
   ]
  },
  {
   "cell_type": "markdown",
   "metadata": {},
   "source": []
  },
  {
   "cell_type": "code",
   "execution_count": null,
   "metadata": {},
   "outputs": [],
   "source": []
  }
 ],
 "metadata": {
  "kernelspec": {
   "display_name": "Python 3",
   "language": "python",
   "name": "python3"
  },
  "language_info": {
   "codemirror_mode": {
    "name": "ipython",
    "version": 3
   },
   "file_extension": ".py",
   "mimetype": "text/x-python",
   "name": "python",
   "nbconvert_exporter": "python",
   "pygments_lexer": "ipython3",
   "version": "3.8.10"
  }
 },
 "nbformat": 4,
 "nbformat_minor": 2
}
